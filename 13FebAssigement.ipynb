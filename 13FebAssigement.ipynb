{
 "cells": [
  {
   "cell_type": "code",
   "execution_count": 1,
   "id": "ab442ed9-3cc3-4715-a21d-3d7fdd6963c6",
   "metadata": {},
   "outputs": [
    {
     "ename": "SyntaxError",
     "evalue": "unterminated triple-quoted string literal (detected at line 61) (904182239.py, line 61)",
     "output_type": "error",
     "traceback": [
      "\u001b[0;36m  Cell \u001b[0;32mIn[1], line 61\u001b[0;36m\u001b[0m\n\u001b[0;31m    ''' cleaup all your resources that is alocated '''\u001b[0m\n\u001b[0m                                                   ^\u001b[0m\n\u001b[0;31mSyntaxError\u001b[0m\u001b[0;31m:\u001b[0m unterminated triple-quoted string literal (detected at line 61)\n"
     ]
    }
   ],
   "source": [
    "''' Q1 '''\n",
    "''' Custom exceptions provide you the flexibility to add attributes and methods that are not part of a standard python exception.\n",
    "'''\n",
    "''' Q2 '''\n",
    "'''\n",
    "def printException():\n",
    "    for i in Exception.__subclasses__():\n",
    "        print(i)\n",
    "    \n",
    "printException()\n",
    "'''\n",
    "''' Q3 '''\n",
    "''' ArithmeticError is thrown when an error occurs while performing mathematical operations\n",
    "try:\n",
    "    a=8\n",
    "    a/0\n",
    "except ZeroDivisionError as e:\n",
    "    print(e)\n",
    "division by zero \n",
    "'''\n",
    "\n",
    "''' Q4 '''\n",
    "''' LookupError Exception is the Base class for errors raised when something can't be found.\n",
    "'''\n",
    "try:\n",
    "    a = [ 1,2,3,4,5 ]\n",
    "    b = a[8]\n",
    "except IndexError as e:\n",
    "    print(\"IndexError was seen \",e)\n",
    "except Exception as e:\n",
    "    print(type(e), e)\n",
    "\n",
    "IndexError was seen  list index out of range\n",
    "\n",
    "try:\n",
    "    a = { 'key1': 1234, 'key2': [ 1,2,3] }\n",
    "    print(a['key5'])\n",
    "except KeyError as e:\n",
    "    print(\"keyerror was seen \",e)\n",
    "except Exception as e:\n",
    "    print(type(e) , e)\n",
    "keyerror was seen  'key5'\n",
    "'''\n",
    "\n",
    "''' Q5 '''\n",
    "''' ModuleNotFoundError is when the specified mouldue does not exist.\n",
    "try:\n",
    "    import rakesh\n",
    "    \n",
    "except ModuleNotFoundError as e:\n",
    "    print(\"Module Not found error was seen \", e)\n",
    "except Exception as e:\n",
    "    print(type(e),e )\n",
    "Module Not found error was seen  No module named 'rakesh' '''\n",
    "\n",
    "''' Q6 '''\n",
    "''' Always use specific exception '''\n",
    "''' Always log your error usinh logging module '''\n",
    "''' Always avoid to write multiple exception handling '''\n",
    "''' Document all the error '''\n",
    "''' cleaup all your resources that is alocated '''"
   ]
  },
  {
   "cell_type": "code",
   "execution_count": null,
   "id": "63f958fe-5730-44d8-82f9-3be72328ff92",
   "metadata": {},
   "outputs": [],
   "source": []
  }
 ],
 "metadata": {
  "kernelspec": {
   "display_name": "Python 3 (ipykernel)",
   "language": "python",
   "name": "python3"
  },
  "language_info": {
   "codemirror_mode": {
    "name": "ipython",
    "version": 3
   },
   "file_extension": ".py",
   "mimetype": "text/x-python",
   "name": "python",
   "nbconvert_exporter": "python",
   "pygments_lexer": "ipython3",
   "version": "3.10.8"
  }
 },
 "nbformat": 4,
 "nbformat_minor": 5
}
